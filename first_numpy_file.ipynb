{
  "nbformat": 4,
  "nbformat_minor": 0,
  "metadata": {
    "colab": {
      "provenance": []
    },
    "kernelspec": {
      "name": "python3",
      "display_name": "Python 3"
    },
    "language_info": {
      "name": "python"
    }
  },
  "cells": [
    {
      "cell_type": "code",
      "execution_count": 8,
      "metadata": {
        "colab": {
          "base_uri": "https://localhost:8080/"
        },
        "id": "A9I8qFnC5ykG",
        "outputId": "0e124f51-95dd-4d8f-8d5d-d677b9eee7fa"
      },
      "outputs": [
        {
          "output_type": "stream",
          "name": "stdout",
          "text": [
            "[ 4  9 16 25 36]\n",
            "36\n",
            "4\n",
            "18.0\n",
            "[2. 3. 4. 5. 6.]\n"
          ]
        }
      ],
      "source": [
        "import numpy as np\n",
        "arr= np.array([4,9,16,25,36])\n",
        "print(arr)\n",
        "print(np.max(arr))\n",
        "print(np.min(arr))\n",
        "print(np.mean(arr))\n",
        "print(np.sqrt(arr))"
      ]
    },
    {
      "cell_type": "code",
      "source": [
        "arr2=np.arange(1,10,1)\n",
        "#  the arange function of the class np take aragumnets as  1 is the initialization , 10 is the last iteration and , 1 is the step increament\n",
        "print(arr2)"
      ],
      "metadata": {
        "colab": {
          "base_uri": "https://localhost:8080/"
        },
        "id": "DOaKjBFB_LiU",
        "outputId": "70c8fc5e-26cb-40ba-a763-9b67f7ed63fd"
      },
      "execution_count": 15,
      "outputs": [
        {
          "output_type": "stream",
          "name": "stdout",
          "text": [
            "[1 2 3 4 5 6 7 8 9]\n"
          ]
        }
      ]
    },
    {
      "cell_type": "code",
      "source": [
        "arr=np.linspace(0,5,5)\n",
        "print(arr)"
      ],
      "metadata": {
        "colab": {
          "base_uri": "https://localhost:8080/"
        },
        "id": "OSOdhcZa_7xd",
        "outputId": "b74abd16-7a28-4dca-a09a-4f905e29dc56"
      },
      "execution_count": 18,
      "outputs": [
        {
          "output_type": "stream",
          "name": "stdout",
          "text": [
            "[0.   1.25 2.5  3.75 5.  ]\n"
          ]
        }
      ]
    },
    {
      "cell_type": "code",
      "source": [
        "arr= np.random.randint(1,100,size=(3,3))\n",
        "print(arr)\n",
        "#  in this we can genrate random element of the array by using the function random and randint size is used for dimention of the array"
      ],
      "metadata": {
        "colab": {
          "base_uri": "https://localhost:8080/"
        },
        "id": "YHUtZiDYAXG4",
        "outputId": "42b41ad5-6300-4ca4-e1c8-d373a99aa79d"
      },
      "execution_count": 24,
      "outputs": [
        {
          "output_type": "stream",
          "name": "stdout",
          "text": [
            "[[95  8 41]\n",
            " [11 83 63]\n",
            " [63 12 55]]\n"
          ]
        }
      ]
    }
  ]
}
