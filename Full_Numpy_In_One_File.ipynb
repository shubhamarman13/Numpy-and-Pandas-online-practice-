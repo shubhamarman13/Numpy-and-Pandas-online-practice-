{
  "nbformat": 4,
  "nbformat_minor": 0,
  "metadata": {
    "colab": {
      "provenance": []
    },
    "kernelspec": {
      "name": "python3",
      "display_name": "Python 3"
    },
    "language_info": {
      "name": "python"
    }
  },
  "cells": [
    {
      "cell_type": "code",
      "execution_count": 97,
      "metadata": {
        "colab": {
          "base_uri": "https://localhost:8080/"
        },
        "id": "A9I8qFnC5ykG",
        "outputId": "f975c83c-468d-4884-d117-b9949a69992d"
      },
      "outputs": [
        {
          "output_type": "stream",
          "name": "stdout",
          "text": [
            "[ 4  9 16 25 36]\n",
            "36\n",
            "4\n",
            "18.0\n",
            "[2. 3. 4. 5. 6.]\n"
          ]
        }
      ],
      "source": [
        "import numpy as np\n",
        "arr= np.array([4,9,16,25,36])\n",
        "print(arr)\n",
        "print(np.max(arr))\n",
        "print(np.min(arr))\n",
        "print(np.mean(arr))\n",
        "print(np.sqrt(arr))"
      ]
    },
    {
      "cell_type": "code",
      "source": [
        "# . it will create an  empty array of the given dimantion with any value or we can  random vlaue\n",
        "arr= np.empty((2,3))\n",
        "print(arr)"
      ],
      "metadata": {
        "colab": {
          "base_uri": "https://localhost:8080/"
        },
        "id": "99TEqZ8kqZRa",
        "outputId": "ff9dd3dc-a98b-4171-f27f-5354e7bd345a"
      },
      "execution_count": 98,
      "outputs": [
        {
          "output_type": "stream",
          "name": "stdout",
          "text": [
            "[[4.9e-324 9.9e-324 2.0e-323]\n",
            " [2.0e-323 2.5e-323 3.0e-323]]\n"
          ]
        }
      ]
    },
    {
      "cell_type": "code",
      "source": [],
      "metadata": {
        "id": "Tqi3OkWIzYBZ"
      },
      "execution_count": 98,
      "outputs": []
    },
    {
      "cell_type": "code",
      "source": [
        "# empty_like(arr) it will ask for an arry and it assume the dimention of the array and create the empty array of that dimention\n",
        "arr= np.array([[1,2,34],[4,5,6]])\n",
        "var = np.empty_like(arr)\n",
        "print(var)"
      ],
      "metadata": {
        "colab": {
          "base_uri": "https://localhost:8080/"
        },
        "id": "We6RP39NqVSA",
        "outputId": "59f0920c-950e-42bf-ed90-7494ffc6a2a5"
      },
      "execution_count": 99,
      "outputs": [
        {
          "output_type": "stream",
          "name": "stdout",
          "text": [
            "[[1 2 4]\n",
            " [4 5 6]]\n"
          ]
        }
      ]
    },
    {
      "cell_type": "code",
      "source": [
        "arr2=np.arange(1,10,1)\n",
        "#  the arange function of the class np take aragumnets as  1 is the initialization , 10 is the last iteration and , 1 is the step increament\n",
        "print(arr2)"
      ],
      "metadata": {
        "colab": {
          "base_uri": "https://localhost:8080/"
        },
        "id": "DOaKjBFB_LiU",
        "outputId": "0ad9c934-65c1-4d9f-d68b-7a74295adcf3"
      },
      "execution_count": 100,
      "outputs": [
        {
          "output_type": "stream",
          "name": "stdout",
          "text": [
            "[1 2 3 4 5 6 7 8 9]\n"
          ]
        }
      ]
    },
    {
      "cell_type": "code",
      "source": [
        "arr=np.linspace(0,5,5)\n",
        "print(arr)"
      ],
      "metadata": {
        "colab": {
          "base_uri": "https://localhost:8080/"
        },
        "id": "OSOdhcZa_7xd",
        "outputId": "6205dece-3d2b-4685-ce6d-ee3a347d52dc"
      },
      "execution_count": 101,
      "outputs": [
        {
          "output_type": "stream",
          "name": "stdout",
          "text": [
            "[0.   1.25 2.5  3.75 5.  ]\n"
          ]
        }
      ]
    },
    {
      "cell_type": "code",
      "source": [
        "arr= np.random.randint(1,100,size=(3,3))\n",
        "print(arr)\n",
        "#  in this we can genrate random element of the array by using the function random and randint size is used for dimention of the array"
      ],
      "metadata": {
        "colab": {
          "base_uri": "https://localhost:8080/"
        },
        "id": "YHUtZiDYAXG4",
        "outputId": "bc0f38e4-3b56-4e55-9f1c-f5a30f6fd636"
      },
      "execution_count": 102,
      "outputs": [
        {
          "output_type": "stream",
          "name": "stdout",
          "text": [
            "[[41 83 81]\n",
            " [ 6 83 59]\n",
            " [47 21 84]]\n"
          ]
        }
      ]
    },
    {
      "cell_type": "code",
      "source": [
        "# 2D array\n",
        "value=np.array([[1,2,3,4,5],[3,2,5,6,7]])\n",
        "# value=np.array(['a','b'])\n",
        "print(value)\n",
        "for i in value:\n",
        "  print(i)\n"
      ],
      "metadata": {
        "id": "Aro91XnfLD9v",
        "colab": {
          "base_uri": "https://localhost:8080/"
        },
        "outputId": "01f83dcd-ec5a-4549-e773-d19320df3b9b"
      },
      "execution_count": 103,
      "outputs": [
        {
          "output_type": "stream",
          "name": "stdout",
          "text": [
            "[[1 2 3 4 5]\n",
            " [3 2 5 6 7]]\n",
            "[1 2 3 4 5]\n",
            "[3 2 5 6 7]\n"
          ]
        }
      ]
    },
    {
      "cell_type": "code",
      "source": [
        "print(\"\\nArray Shape:\", value.shape)\n",
        "print(\"\\nArray Size:\", value.size)\n",
        "print(\"\\nArray Size:\", value.dtype)\n"
      ],
      "metadata": {
        "colab": {
          "base_uri": "https://localhost:8080/"
        },
        "id": "kZQ5fBLNdEFZ",
        "outputId": "3274738a-2d0d-4a60-add6-7969a03d516c"
      },
      "execution_count": 104,
      "outputs": [
        {
          "output_type": "stream",
          "name": "stdout",
          "text": [
            "\n",
            "Array Shape: (2, 5)\n",
            "\n",
            "Array Size: 10\n",
            "\n",
            "Array Size: int64\n"
          ]
        }
      ]
    },
    {
      "cell_type": "code",
      "source": [
        "# creating an array with all the vlaue as 0 zero\n",
        "zero1= np.zeros([3,3])\n",
        "print(zero1)"
      ],
      "metadata": {
        "colab": {
          "base_uri": "https://localhost:8080/"
        },
        "id": "UECTCrkTj2nk",
        "outputId": "49f69971-8349-429f-e3df-5262eee2d091"
      },
      "execution_count": 105,
      "outputs": [
        {
          "output_type": "stream",
          "name": "stdout",
          "text": [
            "[[0. 0. 0.]\n",
            " [0. 0. 0.]\n",
            " [0. 0. 0.]]\n"
          ]
        }
      ]
    },
    {
      "cell_type": "code",
      "source": [
        "# creating an array with all the vlaue as 1 one\n",
        "one1= np.ones([3,3])\n",
        "print(one1)\n"
      ],
      "metadata": {
        "colab": {
          "base_uri": "https://localhost:8080/"
        },
        "id": "A2TEQI03k28O",
        "outputId": "1bf93f29-4cbf-43cd-e84a-5443e6cc6f17"
      },
      "execution_count": 106,
      "outputs": [
        {
          "output_type": "stream",
          "name": "stdout",
          "text": [
            "[[1. 1. 1.]\n",
            " [1. 1. 1.]\n",
            " [1. 1. 1.]]\n"
          ]
        }
      ]
    },
    {
      "cell_type": "code",
      "source": [
        "eye_array= np.eye(4)\n",
        "print(eye_array)"
      ],
      "metadata": {
        "colab": {
          "base_uri": "https://localhost:8080/"
        },
        "id": "N5-1r_CaljZS",
        "outputId": "74695682-a5c3-41bd-e8dc-97511f3570e3"
      },
      "execution_count": 107,
      "outputs": [
        {
          "output_type": "stream",
          "name": "stdout",
          "text": [
            "[[1. 0. 0. 0.]\n",
            " [0. 1. 0. 0.]\n",
            " [0. 0. 1. 0.]\n",
            " [0. 0. 0. 1.]]\n"
          ]
        }
      ]
    },
    {
      "cell_type": "code",
      "source": [
        "# it is used to create a series of numbers in a array like arthemaic progression\n",
        "ap=np.arange(0,10,2)\n",
        "print(ap)"
      ],
      "metadata": {
        "colab": {
          "base_uri": "https://localhost:8080/"
        },
        "id": "_LEXKMBKmV0c",
        "outputId": "1cb9b747-7ce1-4289-9b9f-a090284dc31f"
      },
      "execution_count": 108,
      "outputs": [
        {
          "output_type": "stream",
          "name": "stdout",
          "text": [
            "[0 2 4 6 8]\n"
          ]
        }
      ]
    },
    {
      "cell_type": "code",
      "source": [
        "# it is used to generate certain number of numebr in in peticualer range then we use linespace(a,b,c) where a is the starting  b is the end and\n",
        "# c is the total numebr to be genrated in that range\n",
        "arr= np.linspace(0,11,5)\n",
        "print(arr)"
      ],
      "metadata": {
        "colab": {
          "base_uri": "https://localhost:8080/"
        },
        "id": "hwZ79MI-n20g",
        "outputId": "260e18a5-d594-4acf-aba4-31c88f64a746"
      },
      "execution_count": 109,
      "outputs": [
        {
          "output_type": "stream",
          "name": "stdout",
          "text": [
            "[ 0.    2.75  5.5   8.25 11.  ]\n"
          ]
        }
      ]
    },
    {
      "cell_type": "code",
      "source": [
        "#  how to change the dimention of the array = by usinng the array_name.reshape(dimnetion)\n",
        "arr= np.array([[3,33,55,66],[44,55,66,77],[33,55,77,88]])\n",
        "arr1=arr.reshape(12)\n",
        "arr2=arr.reshape(2,6)\n",
        "print(arr2)\n",
        "print(arr1)"
      ],
      "metadata": {
        "colab": {
          "base_uri": "https://localhost:8080/"
        },
        "id": "ruJfQFQXppz5",
        "outputId": "0dcc4dd3-f83f-4497-975b-db923cc145b3"
      },
      "execution_count": 110,
      "outputs": [
        {
          "output_type": "stream",
          "name": "stdout",
          "text": [
            "[[ 3 33 55 66 44 55]\n",
            " [66 77 33 55 77 88]]\n",
            "[ 3 33 55 66 44 55 66 77 33 55 77 88]\n"
          ]
        }
      ]
    },
    {
      "cell_type": "code",
      "source": [
        "#traversing the element of the array by using the index number\n",
        "arr= np.array([[3,33,55,66],[44,55,66,77],[33,55,77,88]])\n",
        "print(arr[1][2])\n",
        "print(arr[2][3])"
      ],
      "metadata": {
        "colab": {
          "base_uri": "https://localhost:8080/"
        },
        "id": "sGw6lV14sTXH",
        "outputId": "4ff71c72-542d-470b-d2d7-65f4e6ef9c3d"
      },
      "execution_count": 111,
      "outputs": [
        {
          "output_type": "stream",
          "name": "stdout",
          "text": [
            "66\n",
            "88\n"
          ]
        }
      ]
    },
    {
      "cell_type": "code",
      "source": [
        "# slicing of array\n",
        "arr= np.array([[3,33,55,66],[44,55,66,77],[33,55,77,88]])\n",
        "print(arr[0:2:1])\n",
        "\n",
        "arr2=np.array([1,2,3,4,5,6,7,8,9,10])\n",
        "print(arr2[1:3])\n",
        "\n",
        "print(arr2[::-1]) # reverse the array"
      ],
      "metadata": {
        "colab": {
          "base_uri": "https://localhost:8080/"
        },
        "id": "Fq-e9Mn3tajM",
        "outputId": "74bc5dcf-ef1d-4b87-c89c-1522911530a7"
      },
      "execution_count": 112,
      "outputs": [
        {
          "output_type": "stream",
          "name": "stdout",
          "text": [
            "[[ 3 33 55 66]\n",
            " [44 55 66 77]]\n",
            "[2 3]\n",
            "[10  9  8  7  6  5  4  3  2  1]\n"
          ]
        }
      ]
    },
    {
      "cell_type": "code",
      "source": [
        "# how to add certain value to each of the value in the array\n",
        "arr= np.array([[3,33,55,66],[44,55,66,77],[33,55,77,88]])\n",
        "arr=arr+100\n",
        "print(arr)"
      ],
      "metadata": {
        "colab": {
          "base_uri": "https://localhost:8080/"
        },
        "id": "fl3L0bkdu_Fq",
        "outputId": "5a289b71-1ccf-4004-f774-b52e3f2f01fc"
      },
      "execution_count": 113,
      "outputs": [
        {
          "output_type": "stream",
          "name": "stdout",
          "text": [
            "[[103 133 155 166]\n",
            " [144 155 166 177]\n",
            " [133 155 177 188]]\n"
          ]
        }
      ]
    },
    {
      "cell_type": "code",
      "source": [
        "# how to multiply  by a certian numebr to each of the element of the array\n",
        "arr= np.array([[3,33,55,66],[44,55,66,77],[33,55,77,88]])\n",
        "arr=arr*10\n",
        "print(arr)"
      ],
      "metadata": {
        "colab": {
          "base_uri": "https://localhost:8080/"
        },
        "id": "bg3mD9RfvQUj",
        "outputId": "e94813c1-d46b-460c-bcea-9a9f158d0f71"
      },
      "execution_count": 114,
      "outputs": [
        {
          "output_type": "stream",
          "name": "stdout",
          "text": [
            "[[ 30 330 550 660]\n",
            " [440 550 660 770]\n",
            " [330 550 770 880]]\n"
          ]
        }
      ]
    },
    {
      "cell_type": "code",
      "source": [
        "# Addition of two array when they are having the same number of dimention\n",
        "arr=np.array([2,3,4,5,6])\n",
        "arr2=np.array([1,2,3,4,5])\n",
        "arr3=arr+arr2\n",
        "print(arr3)"
      ],
      "metadata": {
        "colab": {
          "base_uri": "https://localhost:8080/"
        },
        "id": "tRonRGygvnuZ",
        "outputId": "da315190-ce2c-46c5-ef68-8323b4b41ad8"
      },
      "execution_count": 115,
      "outputs": [
        {
          "output_type": "stream",
          "name": "stdout",
          "text": [
            "[ 3  5  7  9 11]\n"
          ]
        }
      ]
    },
    {
      "cell_type": "code",
      "source": [
        "# Multiplication  of two array when they are having the same number of dimention\n",
        "arr=np.array([2,3,4,5,6])\n",
        "arr2=np.array([1,2,3,4,5])\n",
        "arr4=np.array([1,2,3,4,5])\n",
        "arr3=arr*arr2*arr4\n",
        "print(arr3)"
      ],
      "metadata": {
        "colab": {
          "base_uri": "https://localhost:8080/"
        },
        "id": "3OgtoUS2wC4R",
        "outputId": "2649eb4c-2b94-42f9-9473-86b5c9ce7c0a"
      },
      "execution_count": 116,
      "outputs": [
        {
          "output_type": "stream",
          "name": "stdout",
          "text": [
            "[  2  12  36  80 150]\n"
          ]
        }
      ]
    },
    {
      "cell_type": "code",
      "source": [
        "#  some  of the  universal funciton\n",
        "# sqrt function usedd to find the square root of the values\n",
        "arr=np.array([4,9,16,25,36,49,81])\n",
        "arr1=np.sqrt(arr)\n",
        "print(arr1)"
      ],
      "metadata": {
        "colab": {
          "base_uri": "https://localhost:8080/"
        },
        "id": "LrX3klBewV3j",
        "outputId": "d36ad133-0519-4990-fcca-f24d19c34143"
      },
      "execution_count": 117,
      "outputs": [
        {
          "output_type": "stream",
          "name": "stdout",
          "text": [
            "[2. 3. 4. 5. 6. 7. 9.]\n"
          ]
        }
      ]
    },
    {
      "cell_type": "code",
      "source": [
        "arr=np.array([4,9,16,25,36,49,81])\n",
        "arr3=np.exp(arr)\n",
        "print(arr3)"
      ],
      "metadata": {
        "colab": {
          "base_uri": "https://localhost:8080/"
        },
        "id": "4H0VInF7xKOh",
        "outputId": "453f14b0-35c7-47f6-99bb-81107a712aca"
      },
      "execution_count": 118,
      "outputs": [
        {
          "output_type": "stream",
          "name": "stdout",
          "text": [
            "[5.45981500e+01 8.10308393e+03 8.88611052e+06 7.20048993e+10\n",
            " 4.31123155e+15 1.90734657e+21 1.50609731e+35]\n"
          ]
        }
      ]
    },
    {
      "cell_type": "code",
      "source": [
        "# it returns the sum of rhe array\n",
        "arr=np.array([4,9,16,25,36,49,81])\n",
        "sum= arr.sum()\n",
        "print(sum)\n",
        "\n",
        "arr= np.array([[3,33,55,66],[44,55,66,77],[33,55,77,88]])\n",
        "sum= arr.sum()\n",
        "print(sum)"
      ],
      "metadata": {
        "colab": {
          "base_uri": "https://localhost:8080/"
        },
        "id": "UJdkKGStxtkY",
        "outputId": "fc35ba43-8055-4d67-ca21-d9ebaf9a9dc7"
      },
      "execution_count": 119,
      "outputs": [
        {
          "output_type": "stream",
          "name": "stdout",
          "text": [
            "220\n",
            "652\n"
          ]
        }
      ]
    },
    {
      "cell_type": "code",
      "source": [
        "#  how to find the min and max from the given array\n",
        "arr= np.array([[3,33,55,66],[44,55,66,77],[33,55,77,88]])\n",
        "max= arr.max()\n",
        "print(max)\n",
        "\n",
        "min= arr.min()\n",
        "print(min)\n"
      ],
      "metadata": {
        "colab": {
          "base_uri": "https://localhost:8080/"
        },
        "id": "IXc1Z3ZiyI2z",
        "outputId": "a81ba790-7e62-434f-ad70-1def0ec1715f"
      },
      "execution_count": 120,
      "outputs": [
        {
          "output_type": "stream",
          "name": "stdout",
          "text": [
            "88\n",
            "3\n"
          ]
        }
      ]
    },
    {
      "cell_type": "code",
      "source": [
        "#  mean and standrad deviation\n",
        "arr= np.array([[3,33,55,66],[44,55,66,77],[33,55,77,88]])\n",
        "mean  = arr.mean()\n",
        "print(mean)\n",
        "std_dev= arr.std()\n",
        "print(std_dev)"
      ],
      "metadata": {
        "colab": {
          "base_uri": "https://localhost:8080/"
        },
        "id": "e2dkhyCgygv3",
        "outputId": "fdf386c9-f376-44a8-8117-b91c4e6d2760"
      },
      "execution_count": 121,
      "outputs": [
        {
          "output_type": "stream",
          "name": "stdout",
          "text": [
            "54.333333333333336\n",
            "22.521594575478492\n"
          ]
        }
      ]
    },
    {
      "cell_type": "code",
      "source": [
        "#  how to  store the boolean vlaues ehne the condition is matched\n",
        "arr= np.array([[3,33,55,66],[44,55,66,77],[33,55,77,88]])\n",
        "value = arr>50\n",
        "print(value)\n",
        "print(\"*\"*60)\n",
        "for i in value:\n",
        "  print(i,end=\" \")\n"
      ],
      "metadata": {
        "colab": {
          "base_uri": "https://localhost:8080/"
        },
        "id": "qvcsJOi3y72J",
        "outputId": "dd66e8d2-820c-4846-e14c-c9aae5a3eb3b"
      },
      "execution_count": 122,
      "outputs": [
        {
          "output_type": "stream",
          "name": "stdout",
          "text": [
            "[[False False  True  True]\n",
            " [False  True  True  True]\n",
            " [False  True  True  True]]\n",
            "************************************************************\n",
            "[False False  True  True] [False  True  True  True] [False  True  True  True] "
          ]
        }
      ]
    },
    {
      "cell_type": "code",
      "source": [
        "#  how to filtreate the value like with a certain how to extract the values from the  given array like\n",
        "# find the values which are greter then 40  from a give a certain array\n",
        "\n",
        "arr= np.array([[3,33,55,66],[44,55,66,77],[33,55,77,88]])\n",
        "arr2= arr[arr>40]\n",
        "print(arr2)\n",
        "print(arr[arr>50])"
      ],
      "metadata": {
        "colab": {
          "base_uri": "https://localhost:8080/"
        },
        "id": "v8Z0VVFB0C6E",
        "outputId": "9585ce22-ca0e-4318-8b36-0a6368f5d09f"
      },
      "execution_count": 123,
      "outputs": [
        {
          "output_type": "stream",
          "name": "stdout",
          "text": [
            "[55 66 44 55 66 77 55 77 88]\n",
            "[55 66 55 66 77 55 77 88]\n"
          ]
        }
      ]
    },
    {
      "cell_type": "code",
      "source": [
        "# broadcast in array\n",
        "arr= np.array([[3,33,55,66],[44,55,66,77],[33,55,77,88]])\n",
        "arr3=arr+2\n",
        "print(arr3)"
      ],
      "metadata": {
        "colab": {
          "base_uri": "https://localhost:8080/"
        },
        "id": "nySG-yRG0xrv",
        "outputId": "b83b43c1-ff01-433d-da30-fb17f1bb3f61"
      },
      "execution_count": 124,
      "outputs": [
        {
          "output_type": "stream",
          "name": "stdout",
          "text": [
            "[[ 5 35 57 68]\n",
            " [46 57 68 79]\n",
            " [35 57 79 90]]\n"
          ]
        }
      ]
    },
    {
      "cell_type": "code",
      "source": [
        "#  how to genrate and store random value in the array\n",
        "#  random integers\n",
        "random = np.random.randint(2,10,size=(2,2))\n",
        "print(random)\n",
        "print(\"*\"*40)\n",
        "random1 = np.random.randint(1,50,size=(3,5))\n",
        "print(random1)\n"
      ],
      "metadata": {
        "colab": {
          "base_uri": "https://localhost:8080/"
        },
        "id": "5UORw1jK1BJD",
        "outputId": "79660a9c-144a-472d-aaa9-ff65056962a1"
      },
      "execution_count": 125,
      "outputs": [
        {
          "output_type": "stream",
          "name": "stdout",
          "text": [
            "[[3 5]\n",
            " [7 7]]\n",
            "****************************************\n",
            "[[16 10 12 29 21]\n",
            " [11 23 46 21 49]\n",
            " [ 4 15 22 36 16]]\n"
          ]
        }
      ]
    },
    {
      "cell_type": "code",
      "source": [
        "#  how to generate and stor the random flaoting numbers in to an array\n",
        "random = np.random.rand(2,4)\n",
        "print(random)"
      ],
      "metadata": {
        "colab": {
          "base_uri": "https://localhost:8080/"
        },
        "id": "5mqS5uOY19fF",
        "outputId": "fe1a05f0-0ef1-49fe-ef44-ec62c79a8583"
      },
      "execution_count": 126,
      "outputs": [
        {
          "output_type": "stream",
          "name": "stdout",
          "text": [
            "[[0.11063743 0.67074937 0.05236073 0.21240498]\n",
            " [0.41594017 0.32632501 0.63949369 0.47065159]]\n"
          ]
        }
      ]
    },
    {
      "cell_type": "code",
      "source": [
        "#  normal distribution in an array\n",
        "random = np.random.randn(2,4)\n",
        "print(random)"
      ],
      "metadata": {
        "colab": {
          "base_uri": "https://localhost:8080/"
        },
        "id": "tBMMpR6L2XLS",
        "outputId": "11e402ae-55d5-4693-c323-feda397668ff"
      },
      "execution_count": 127,
      "outputs": [
        {
          "output_type": "stream",
          "name": "stdout",
          "text": [
            "[[-0.83530859 -0.85348327  0.33032379  2.13536891]\n",
            " [ 1.09464492 -0.83793596 -1.52544049 -0.66423504]]\n"
          ]
        }
      ]
    },
    {
      "cell_type": "code",
      "source": [
        "arr5 = np.array([5, 6, 7])\n",
        "arr1=np.array([1,2,3])\n",
        "stacked_arr = np.vstack((arr1, arr5))\n",
        "print(\"\\nVertically Stacked Array:\\n\", stacked_arr)"
      ],
      "metadata": {
        "colab": {
          "base_uri": "https://localhost:8080/"
        },
        "id": "B7RzJzLF2l0M",
        "outputId": "938c6889-b9d1-418d-e75d-76b8f3efbed1"
      },
      "execution_count": 128,
      "outputs": [
        {
          "output_type": "stream",
          "name": "stdout",
          "text": [
            "\n",
            "Vertically Stacked Array:\n",
            " [[1 2 3]\n",
            " [5 6 7]]\n"
          ]
        }
      ]
    },
    {
      "cell_type": "code",
      "source": [
        "import numpy as np\n",
        "arr1=np.array([[1,2,3,4],[5,6,7,8]])\n",
        "arr2=np.array([[1,2,3,4],[5,6,7,8]])\n",
        "arr3=np.hstack((arr1,arr2))\n",
        "print(arr3)"
      ],
      "metadata": {
        "colab": {
          "base_uri": "https://localhost:8080/"
        },
        "id": "XsgsCP7H37vP",
        "outputId": "a4b462cd-b0c6-4747-fac2-fde575eaa133"
      },
      "execution_count": 129,
      "outputs": [
        {
          "output_type": "stream",
          "name": "stdout",
          "text": [
            "[[1 2 3 4 1 2 3 4]\n",
            " [5 6 7 8 5 6 7 8]]\n"
          ]
        }
      ]
    },
    {
      "cell_type": "code",
      "source": [
        "#  creating a 1D array from 2D or 3D array\n",
        "arr1=np.array([[1,2,3,4],[5,6,7,8]])\n",
        "arr2=arr1.ravel()\n",
        "print(arr2)"
      ],
      "metadata": {
        "colab": {
          "base_uri": "https://localhost:8080/"
        },
        "id": "HTsa9B1ifjav",
        "outputId": "abbaa953-090f-4271-9e85-4a5ae2056a74"
      },
      "execution_count": 130,
      "outputs": [
        {
          "output_type": "stream",
          "name": "stdout",
          "text": [
            "[1 2 3 4 5 6 7 8]\n"
          ]
        }
      ]
    },
    {
      "cell_type": "code",
      "source": [
        "arr1=np.array([[1,2,3,4],[5,6,7,8],[9,10,11,12]])\n",
        "print(arr1)\n",
        "print(\"*\"*20)\n",
        "print(\"The sum of Column\",arr1.sum(axis=0))\n",
        "print(\"The sum of Rows\",arr1.sum(axis=1))\n",
        "print(\"*\"*20)\n",
        "arr=np.array([1,2,3,5])\n",
        "print(arr.nbytes)\n"
      ],
      "metadata": {
        "colab": {
          "base_uri": "https://localhost:8080/"
        },
        "id": "tmM6ykm3g6aP",
        "outputId": "7fb40db8-2155-45b8-ce48-eb8fb6ee2329"
      },
      "execution_count": 131,
      "outputs": [
        {
          "output_type": "stream",
          "name": "stdout",
          "text": [
            "[[ 1  2  3  4]\n",
            " [ 5  6  7  8]\n",
            " [ 9 10 11 12]]\n",
            "********************\n",
            "The sum of Column [15 18 21 24]\n",
            "The sum of Rows [10 26 42]\n",
            "********************\n",
            "32\n"
          ]
        }
      ]
    },
    {
      "cell_type": "code",
      "source": [
        "arr=np.array([1,44,55,33,66,44,33,66])\n",
        "print(arr.argmax())"
      ],
      "metadata": {
        "colab": {
          "base_uri": "https://localhost:8080/"
        },
        "id": "7pSryiRUm6wv",
        "outputId": "ebcc68ce-079b-4554-fcb0-6e853d857eb7"
      },
      "execution_count": 132,
      "outputs": [
        {
          "output_type": "stream",
          "name": "stdout",
          "text": [
            "4\n"
          ]
        }
      ]
    },
    {
      "cell_type": "code",
      "source": [
        "arr=np.array([1,44,55,33,66,44,33,66])\n",
        "arr1=arr.argsort()\n",
        "print(arr1)"
      ],
      "metadata": {
        "colab": {
          "base_uri": "https://localhost:8080/"
        },
        "id": "03FNzwqlnzIx",
        "outputId": "6baa7683-4d46-49b8-8a26-d6bd837448df"
      },
      "execution_count": 133,
      "outputs": [
        {
          "output_type": "stream",
          "name": "stdout",
          "text": [
            "[0 3 6 1 5 2 4 7]\n"
          ]
        }
      ]
    },
    {
      "cell_type": "code",
      "source": [
        " #  sum inbuilt function of the array can be used to  find the result  it work in the both 1D and 2D aray as well as 3D array\n",
        "arr= np.array([[2,3,66,4,77,5,6],[44,100,200,1,33,55,99]])\n",
        "print(\"Minimum= \",arr.min())\n",
        "print(\"Maximum= \",arr.max())\n",
        "print(\"sum of the array is = \",arr.sum())"
      ],
      "metadata": {
        "colab": {
          "base_uri": "https://localhost:8080/"
        },
        "id": "AWrk2e2xqbLC",
        "outputId": "3da074bf-11dd-4cf9-b541-4b4173478036"
      },
      "execution_count": 134,
      "outputs": [
        {
          "output_type": "stream",
          "name": "stdout",
          "text": [
            "Minimum=  1\n",
            "Maximum=  200\n",
            "sum of the array is =  695\n"
          ]
        }
      ]
    },
    {
      "cell_type": "code",
      "source": [
        "# how to print the index of the given condtion\n",
        "arr= np.array([[1,2,3],\n",
        "               [4,5,6],\n",
        "               [7,1,0]])\n",
        "print(np.where(arr>6))\n",
        "arr1=arr<5\n",
        "print(arr1)\n",
        "print(\"*\"*30)\n",
        "arr1=np.where(arr %2==0)\n",
        "print(arr1)\n",
        "# value=np.transpose(arr)\n",
        "# print(value,end=\"\")"
      ],
      "metadata": {
        "colab": {
          "base_uri": "https://localhost:8080/"
        },
        "id": "zhNii9IjrTHz",
        "outputId": "ed4dae79-d21e-4716-8133-18ba0935c092"
      },
      "execution_count": 150,
      "outputs": [
        {
          "output_type": "stream",
          "name": "stdout",
          "text": [
            "(array([2]), array([0]))\n",
            "[[ True  True  True]\n",
            " [ True False False]\n",
            " [False  True  True]]\n",
            "******************************\n",
            "(array([0, 1, 1, 2]), array([1, 0, 2, 2]))\n"
          ]
        }
      ]
    },
    {
      "cell_type": "code",
      "source": [
        "#  np.sqrt(arr) it gives the array in which all the  root under of the elemtnt are calculted and put under the array and returnd\n",
        "arr1=np.array([[9,225,4,16],[25,36,121,81]])\n",
        "print(np.sqrt(arr1))"
      ],
      "metadata": {
        "colab": {
          "base_uri": "https://localhost:8080/"
        },
        "id": "z86wkdaEtZtz",
        "outputId": "0420e3f3-1164-4c3a-b40c-2df99a9fd0ba"
      },
      "execution_count": 136,
      "outputs": [
        {
          "output_type": "stream",
          "name": "stdout",
          "text": [
            "[[ 3. 15.  2.  4.]\n",
            " [ 5.  6. 11.  9.]]\n"
          ]
        }
      ]
    },
    {
      "cell_type": "code",
      "source": [
        "#  it will return  the total numebr  of element that are not zero in vlaue\n",
        "arr= np.array([[1,2,3],\n",
        "               [4,5,6],\n",
        "               [0,1,0]])\n",
        "print(np.count_nonzero(arr))"
      ],
      "metadata": {
        "colab": {
          "base_uri": "https://localhost:8080/"
        },
        "id": "lXJFtJpR6otE",
        "outputId": "9719b433-0c46-4d34-cabc-59f2cf416c81"
      },
      "execution_count": 137,
      "outputs": [
        {
          "output_type": "stream",
          "name": "stdout",
          "text": [
            "7\n"
          ]
        }
      ]
    },
    {
      "cell_type": "code",
      "source": [
        "#  it will return all the indedx row and column wise that are none zero\n",
        "arr= np.array([[1,2,3],\n",
        "               [4,5,6],\n",
        "               [0,1,0]])\n",
        "arr1=np.nonzero(arr)\n",
        "#  now arr1 will strore   2D array in which one if the row and the second one is column which are non zero\n",
        "for i in arr1:\n",
        "    print(i)"
      ],
      "metadata": {
        "colab": {
          "base_uri": "https://localhost:8080/"
        },
        "id": "hedlSXiJ7QsZ",
        "outputId": "4a07ae9e-eabf-47b0-c9bb-0c199a3361de"
      },
      "execution_count": 138,
      "outputs": [
        {
          "output_type": "stream",
          "name": "stdout",
          "text": [
            "[0 0 0 1 1 1 2]\n",
            "[0 1 2 0 1 2 1]\n"
          ]
        }
      ]
    },
    {
      "cell_type": "code",
      "source": [
        "#  lets check the size of list and an array then compare which one consume less size for the same number of element\n",
        "import sys\n",
        "list1=[1,2,3,4,5]\n",
        "arr= np.array([1,2,3,4,5])\n",
        "print(\"Size of python  list \",sys.getsizeof(list1))\n",
        "print(\"size of np array \",arr.nbytes)\n",
        "# print(size(arr))"
      ],
      "metadata": {
        "colab": {
          "base_uri": "https://localhost:8080/"
        },
        "id": "dpU9c8PD7d_5",
        "outputId": "b509b05b-0188-46ac-f7ec-bd74d06ee264"
      },
      "execution_count": 149,
      "outputs": [
        {
          "output_type": "stream",
          "name": "stdout",
          "text": [
            "Size of python  list  104\n",
            "size of np array  40\n"
          ]
        }
      ]
    },
    {
      "cell_type": "code",
      "source": [
        "# it will create an array with 5 *5 and follow the sequence of 1 0 0 0\n",
        "                                                            #  0 1 0 0\n",
        "arr=np.identity(5)\n",
        "print(arr)\n"
      ],
      "metadata": {
        "colab": {
          "base_uri": "https://localhost:8080/"
        },
        "id": "7b3KnHjN9zZE",
        "outputId": "a4b85fac-73a7-4f4f-e9f3-54e8540b7132"
      },
      "execution_count": 156,
      "outputs": [
        {
          "output_type": "stream",
          "name": "stdout",
          "text": [
            "[[1. 0. 0. 0. 0.]\n",
            " [0. 1. 0. 0. 0.]\n",
            " [0. 0. 1. 0. 0.]\n",
            " [0. 0. 0. 1. 0.]\n",
            " [0. 0. 0. 0. 1.]]\n"
          ]
        }
      ]
    },
    {
      "cell_type": "code",
      "source": [
        "# it will return the count of total number of elements which are not zero in the given array\n",
        "arr= np.array([1,2,3,4,5,0,3,0])\n",
        "print((np.count_nonzero(arr)))"
      ],
      "metadata": {
        "colab": {
          "base_uri": "https://localhost:8080/"
        },
        "id": "8FeJ-VtiU41q",
        "outputId": "fa07da02-cf4a-435c-81d3-79dcdfdcfc25"
      },
      "execution_count": 157,
      "outputs": [
        {
          "output_type": "stream",
          "name": "stdout",
          "text": [
            "6\n"
          ]
        }
      ]
    }
  ]
}