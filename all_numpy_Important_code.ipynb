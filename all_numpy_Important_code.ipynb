{
  "nbformat": 4,
  "nbformat_minor": 0,
  "metadata": {
    "colab": {
      "provenance": [],
      "toc_visible": true
    },
    "kernelspec": {
      "name": "python3",
      "display_name": "Python 3"
    },
    "language_info": {
      "name": "python"
    }
  },
  "cells": [
    {
      "cell_type": "code",
      "execution_count": null,
      "metadata": {
        "colab": {
          "base_uri": "https://localhost:8080/"
        },
        "id": "A9I8qFnC5ykG",
        "outputId": "7b91125b-9382-40b3-f29a-c783af29777f"
      },
      "outputs": [
        {
          "output_type": "stream",
          "name": "stdout",
          "text": [
            "[ 4  9 16 25 36]\n",
            "36\n",
            "4\n",
            "18.0\n",
            "[2. 3. 4. 5. 6.]\n"
          ]
        }
      ],
      "source": [
        "import numpy as np\n",
        "arr= np.array([4,9,16,25,36])\n",
        "print(arr)\n",
        "print(np.max(arr))\n",
        "print(np.min(arr))\n",
        "print(np.mean(arr))\n",
        "print(np.sqrt(arr))"
      ]
    },
    {
      "cell_type": "code",
      "source": [
        "arr2=np.arange(1,10,1)\n",
        "#  the arange function of the class np take aragumnets as  1 is the initialization , 10 is the last iteration and , 1 is the step increament\n",
        "print(arr2)"
      ],
      "metadata": {
        "colab": {
          "base_uri": "https://localhost:8080/"
        },
        "id": "DOaKjBFB_LiU",
        "outputId": "70c8fc5e-26cb-40ba-a763-9b67f7ed63fd"
      },
      "execution_count": null,
      "outputs": [
        {
          "output_type": "stream",
          "name": "stdout",
          "text": [
            "[1 2 3 4 5 6 7 8 9]\n"
          ]
        }
      ]
    },
    {
      "cell_type": "code",
      "source": [
        "arr=np.linspace(0,5,5)\n",
        "print(arr)"
      ],
      "metadata": {
        "colab": {
          "base_uri": "https://localhost:8080/"
        },
        "id": "OSOdhcZa_7xd",
        "outputId": "1318fe2d-e5ed-4071-9377-58838a2e9b8f"
      },
      "execution_count": null,
      "outputs": [
        {
          "output_type": "stream",
          "name": "stdout",
          "text": [
            "[0.   1.25 2.5  3.75 5.  ]\n"
          ]
        }
      ]
    },
    {
      "cell_type": "code",
      "source": [
        "arr= np.random.randint(1,100,size=(3,3))\n",
        "print(arr)\n",
        "#  in this we can genrate random element of the array by using the function random and randint size is used for dimention of the array"
      ],
      "metadata": {
        "colab": {
          "base_uri": "https://localhost:8080/"
        },
        "id": "YHUtZiDYAXG4",
        "outputId": "efccc897-4f06-426a-f5ac-1843539cb9dc"
      },
      "execution_count": 7,
      "outputs": [
        {
          "output_type": "stream",
          "name": "stdout",
          "text": [
            "[[56 77 76]\n",
            " [99 19 69]\n",
            " [45 69 68]]\n"
          ]
        }
      ]
    },
    {
      "cell_type": "code",
      "source": [
        "# 2D array\n",
        "value=np.array([[1,2,3,4,5],[3,2,5,6,7]])\n",
        "# value=np.array(['a','b'])\n",
        "print(value)\n",
        "for i in value:\n",
        "  print(i)\n"
      ],
      "metadata": {
        "id": "Aro91XnfLD9v",
        "colab": {
          "base_uri": "https://localhost:8080/"
        },
        "outputId": "9649a5f7-b929-4d6b-e647-2fa48238366b"
      },
      "execution_count": 34,
      "outputs": [
        {
          "output_type": "stream",
          "name": "stdout",
          "text": [
            "[[1 2 3 4 5]\n",
            " [3 2 5 6 7]]\n",
            "[1 2 3 4 5]\n",
            "[3 2 5 6 7]\n"
          ]
        }
      ]
    },
    {
      "cell_type": "code",
      "source": [
        "print(\"\\nArray Shape:\", value.shape)\n",
        "print(\"\\nArray Size:\", value.size)\n",
        "print(\"\\nArray Size:\", value.dtype)\n"
      ],
      "metadata": {
        "colab": {
          "base_uri": "https://localhost:8080/"
        },
        "id": "kZQ5fBLNdEFZ",
        "outputId": "74c329e3-db02-4a7f-fdc8-2f1165984c7d"
      },
      "execution_count": 36,
      "outputs": [
        {
          "output_type": "stream",
          "name": "stdout",
          "text": [
            "\n",
            "Array Shape: (2, 5)\n",
            "\n",
            "Array Size: 10\n",
            "\n",
            "Array Size: int64\n"
          ]
        }
      ]
    },
    {
      "cell_type": "code",
      "source": [
        "# creating an array with all the vlaue as 0 zero\n",
        "zero1= np.zeros([3,3])\n",
        "print(zero1)"
      ],
      "metadata": {
        "colab": {
          "base_uri": "https://localhost:8080/"
        },
        "id": "UECTCrkTj2nk",
        "outputId": "fd2a1d42-145a-4829-8578-f1b45dbd4362"
      },
      "execution_count": 49,
      "outputs": [
        {
          "output_type": "stream",
          "name": "stdout",
          "text": [
            "[[0. 0. 0.]\n",
            " [0. 0. 0.]\n",
            " [0. 0. 0.]]\n"
          ]
        }
      ]
    },
    {
      "cell_type": "code",
      "source": [
        "# creating an array with all the vlaue as 1 one\n",
        "one1= np.ones([3,3])\n",
        "print(one1)\n"
      ],
      "metadata": {
        "colab": {
          "base_uri": "https://localhost:8080/"
        },
        "id": "A2TEQI03k28O",
        "outputId": "5a52faa8-515c-4e74-be98-1877e032bf07"
      },
      "execution_count": 52,
      "outputs": [
        {
          "output_type": "stream",
          "name": "stdout",
          "text": [
            "[[1. 1. 1.]\n",
            " [1. 1. 1.]\n",
            " [1. 1. 1.]]\n"
          ]
        }
      ]
    },
    {
      "cell_type": "code",
      "source": [
        "eye_array= np.eye(4)\n",
        "print(eye_array)"
      ],
      "metadata": {
        "colab": {
          "base_uri": "https://localhost:8080/"
        },
        "id": "N5-1r_CaljZS",
        "outputId": "e577be8a-62bc-42e0-88ca-da96e65d3312"
      },
      "execution_count": 56,
      "outputs": [
        {
          "output_type": "stream",
          "name": "stdout",
          "text": [
            "[[1. 0. 0. 0.]\n",
            " [0. 1. 0. 0.]\n",
            " [0. 0. 1. 0.]\n",
            " [0. 0. 0. 1.]]\n"
          ]
        }
      ]
    },
    {
      "cell_type": "code",
      "source": [
        "# it is used to create a series of numbers in a array like arthemaic progression\n",
        "ap=np.arange(0,10,2)\n",
        "print(ap)"
      ],
      "metadata": {
        "colab": {
          "base_uri": "https://localhost:8080/"
        },
        "id": "_LEXKMBKmV0c",
        "outputId": "288031a8-1c40-455b-86a7-59dad7e16909"
      },
      "execution_count": 59,
      "outputs": [
        {
          "output_type": "stream",
          "name": "stdout",
          "text": [
            "[0 2 4 6 8]\n"
          ]
        }
      ]
    },
    {
      "cell_type": "code",
      "source": [
        "# it is used to generate certain number of numebr in in peticualer range then we use linespace(a,b,c) where a is the starting  b is the end and\n",
        "# c is the total numebr to be genrated in that range\n",
        "arr= np.linspace(0,11,5)\n",
        "print(arr)"
      ],
      "metadata": {
        "colab": {
          "base_uri": "https://localhost:8080/"
        },
        "id": "hwZ79MI-n20g",
        "outputId": "1cd84122-7010-47b4-85eb-7d538e6fbe81"
      },
      "execution_count": 72,
      "outputs": [
        {
          "output_type": "stream",
          "name": "stdout",
          "text": [
            "[ 0.    2.75  5.5   8.25 11.  ]\n"
          ]
        }
      ]
    },
    {
      "cell_type": "code",
      "source": [
        "#  how to change the dimention of the array = by usinng the array_name.reshape(dimnetion)\n",
        "arr= np.array([[3,33,55,66],[44,55,66,77],[33,55,77,88]])\n",
        "arr1=arr.reshape(12)\n",
        "arr2=arr.reshape(2,6)\n",
        "print(arr2)\n",
        "print(arr1)"
      ],
      "metadata": {
        "colab": {
          "base_uri": "https://localhost:8080/"
        },
        "id": "ruJfQFQXppz5",
        "outputId": "156162b6-63de-4c7b-bd21-13e23ad9f8ec"
      },
      "execution_count": 95,
      "outputs": [
        {
          "output_type": "stream",
          "name": "stdout",
          "text": [
            "[[ 3 33 55 66 44 55]\n",
            " [66 77 33 55 77 88]]\n",
            "[ 3 33 55 66 44 55 66 77 33 55 77 88]\n"
          ]
        }
      ]
    },
    {
      "cell_type": "code",
      "source": [
        "#traversing the element of the array by using the index number\n",
        "arr= np.array([[3,33,55,66],[44,55,66,77],[33,55,77,88]])\n",
        "print(arr[1][2])\n",
        "print(arr[2][3])"
      ],
      "metadata": {
        "colab": {
          "base_uri": "https://localhost:8080/"
        },
        "id": "sGw6lV14sTXH",
        "outputId": "7c0fc5a3-aab7-4c9f-f09f-343a9689bc3b"
      },
      "execution_count": 100,
      "outputs": [
        {
          "output_type": "stream",
          "name": "stdout",
          "text": [
            "66\n",
            "88\n"
          ]
        }
      ]
    },
    {
      "cell_type": "code",
      "source": [
        "# slicing of array\n",
        "arr= np.array([[3,33,55,66],[44,55,66,77],[33,55,77,88]])\n",
        "print(arr[0:2:1])\n",
        "\n",
        "arr2=np.array([1,2,3,4,5,6,7,8,9,10])\n",
        "print(arr2[1:3])\n",
        "\n",
        "print(arr2[::-1]) # reverse the array"
      ],
      "metadata": {
        "colab": {
          "base_uri": "https://localhost:8080/"
        },
        "id": "Fq-e9Mn3tajM",
        "outputId": "1592ceb6-4560-410d-aa4f-b135b144e32e"
      },
      "execution_count": 123,
      "outputs": [
        {
          "output_type": "stream",
          "name": "stdout",
          "text": [
            "[[ 3 33 55 66]\n",
            " [44 55 66 77]]\n",
            "[2 3]\n",
            "[10  9  8  7  6  5  4  3  2  1]\n"
          ]
        }
      ]
    },
    {
      "cell_type": "code",
      "source": [
        "# how to add certain value to each of the value in the array\n",
        "arr= np.array([[3,33,55,66],[44,55,66,77],[33,55,77,88]])\n",
        "arr=arr+100\n",
        "print(arr)"
      ],
      "metadata": {
        "colab": {
          "base_uri": "https://localhost:8080/"
        },
        "id": "fl3L0bkdu_Fq",
        "outputId": "89940193-d996-4b5d-c967-d8f95727aef4"
      },
      "execution_count": 127,
      "outputs": [
        {
          "output_type": "stream",
          "name": "stdout",
          "text": [
            "[[103 133 155 166]\n",
            " [144 155 166 177]\n",
            " [133 155 177 188]]\n"
          ]
        }
      ]
    },
    {
      "cell_type": "code",
      "source": [
        "# how to multiply  by a certian numebr to each of the element of the array\n",
        "arr= np.array([[3,33,55,66],[44,55,66,77],[33,55,77,88]])\n",
        "arr=arr*10\n",
        "print(arr)"
      ],
      "metadata": {
        "colab": {
          "base_uri": "https://localhost:8080/"
        },
        "id": "bg3mD9RfvQUj",
        "outputId": "be966ce1-e3a9-4a57-986f-0c9ca4f9ac1f"
      },
      "execution_count": 130,
      "outputs": [
        {
          "output_type": "stream",
          "name": "stdout",
          "text": [
            "[[ 30 330 550 660]\n",
            " [440 550 660 770]\n",
            " [330 550 770 880]]\n"
          ]
        }
      ]
    },
    {
      "cell_type": "code",
      "source": [
        "# Addition of two array when they are having the same number of dimention\n",
        "arr=np.array([2,3,4,5,6])\n",
        "arr2=np.array([1,2,3,4,5])\n",
        "arr3=arr+arr2\n",
        "print(arr3)"
      ],
      "metadata": {
        "colab": {
          "base_uri": "https://localhost:8080/"
        },
        "id": "tRonRGygvnuZ",
        "outputId": "cbef843f-2c0a-47df-ace7-5aea967df475"
      },
      "execution_count": 134,
      "outputs": [
        {
          "output_type": "stream",
          "name": "stdout",
          "text": [
            "[ 3  5  7  9 11]\n"
          ]
        }
      ]
    },
    {
      "cell_type": "code",
      "source": [
        "# Multiplication  of two array when they are having the same number of dimention\n",
        "arr=np.array([2,3,4,5,6])\n",
        "arr2=np.array([1,2,3,4,5])\n",
        "arr4=np.array([1,2,3,4,5])\n",
        "arr3=arr*arr2*arr4\n",
        "print(arr3)"
      ],
      "metadata": {
        "colab": {
          "base_uri": "https://localhost:8080/"
        },
        "id": "3OgtoUS2wC4R",
        "outputId": "fb58cb99-bf25-44d1-c314-a3f597acdf92"
      },
      "execution_count": 137,
      "outputs": [
        {
          "output_type": "stream",
          "name": "stdout",
          "text": [
            "[  2  12  36  80 150]\n"
          ]
        }
      ]
    },
    {
      "cell_type": "code",
      "source": [
        "#  some  of the  universal funciton\n",
        "# sqrt function usedd to find the square root of the values\n",
        "arr=np.array([4,9,16,25,36,49,81])\n",
        "arr1=np.sqrt(arr)\n",
        "print(arr1)"
      ],
      "metadata": {
        "colab": {
          "base_uri": "https://localhost:8080/"
        },
        "id": "LrX3klBewV3j",
        "outputId": "50250104-3da5-4b97-f607-1321d4cdd01c"
      },
      "execution_count": 141,
      "outputs": [
        {
          "output_type": "stream",
          "name": "stdout",
          "text": [
            "[2. 3. 4. 5. 6. 7. 9.]\n"
          ]
        }
      ]
    },
    {
      "cell_type": "code",
      "source": [
        "arr=np.array([4,9,16,25,36,49,81])\n",
        "arr3=np.exp(arr)\n",
        "print(arr3)"
      ],
      "metadata": {
        "colab": {
          "base_uri": "https://localhost:8080/"
        },
        "id": "4H0VInF7xKOh",
        "outputId": "5ca92348-7204-49e7-fa33-e648db3d6c39"
      },
      "execution_count": 145,
      "outputs": [
        {
          "output_type": "stream",
          "name": "stdout",
          "text": [
            "[5.45981500e+01 8.10308393e+03 8.88611052e+06 7.20048993e+10\n",
            " 4.31123155e+15 1.90734657e+21 1.50609731e+35]\n"
          ]
        }
      ]
    },
    {
      "cell_type": "code",
      "source": [
        "# it returns the sum of rhe array\n",
        "arr=np.array([4,9,16,25,36,49,81])\n",
        "sum= arr.sum()\n",
        "print(sum)\n",
        "\n",
        "arr= np.array([[3,33,55,66],[44,55,66,77],[33,55,77,88]])\n",
        "sum= arr.sum()\n",
        "print(sum)"
      ],
      "metadata": {
        "colab": {
          "base_uri": "https://localhost:8080/"
        },
        "id": "UJdkKGStxtkY",
        "outputId": "2e49b2e7-c07f-40b0-c2fb-9dfd51deb182"
      },
      "execution_count": 150,
      "outputs": [
        {
          "output_type": "stream",
          "name": "stdout",
          "text": [
            "220\n",
            "652\n"
          ]
        }
      ]
    },
    {
      "cell_type": "code",
      "source": [
        "#  how to find the min and max from the given array\n",
        "arr= np.array([[3,33,55,66],[44,55,66,77],[33,55,77,88]])\n",
        "max= arr.max()\n",
        "print(max)\n",
        "\n",
        "min= arr.min()\n",
        "print(min)\n"
      ],
      "metadata": {
        "colab": {
          "base_uri": "https://localhost:8080/"
        },
        "id": "IXc1Z3ZiyI2z",
        "outputId": "25422404-90bc-4fe5-9a28-21f143d2b857"
      },
      "execution_count": 155,
      "outputs": [
        {
          "output_type": "stream",
          "name": "stdout",
          "text": [
            "88\n",
            "3\n"
          ]
        }
      ]
    },
    {
      "cell_type": "code",
      "source": [
        "#  mean and standrad deviation\n",
        "arr= np.array([[3,33,55,66],[44,55,66,77],[33,55,77,88]])\n",
        "mean  = arr.mean()\n",
        "print(mean)\n",
        "std_dev= arr.std()\n",
        "print(std_dev)"
      ],
      "metadata": {
        "colab": {
          "base_uri": "https://localhost:8080/"
        },
        "id": "e2dkhyCgygv3",
        "outputId": "5a721408-f178-4372-bb7d-aeacf429db4c"
      },
      "execution_count": 160,
      "outputs": [
        {
          "output_type": "stream",
          "name": "stdout",
          "text": [
            "54.333333333333336\n",
            "22.521594575478492\n"
          ]
        }
      ]
    },
    {
      "cell_type": "code",
      "source": [
        "#  how to  store the boolean vlaues ehne the condition is matched\n",
        "arr= np.array([[3,33,55,66],[44,55,66,77],[33,55,77,88]])\n",
        "value = arr>50\n",
        "print(value)\n",
        "print(\"*\"*60)\n",
        "for i in value:\n",
        "  print(i,end=\" \")\n"
      ],
      "metadata": {
        "colab": {
          "base_uri": "https://localhost:8080/"
        },
        "id": "qvcsJOi3y72J",
        "outputId": "9337e324-f542-40f5-90ad-b50a33634475"
      },
      "execution_count": 170,
      "outputs": [
        {
          "output_type": "stream",
          "name": "stdout",
          "text": [
            "[[False False  True  True]\n",
            " [False  True  True  True]\n",
            " [False  True  True  True]]\n",
            "************************************************************\n",
            "[False False  True  True] [False  True  True  True] [False  True  True  True] "
          ]
        }
      ]
    },
    {
      "cell_type": "code",
      "source": [
        "#  how to filtreate the value like with a certain how to extract the values from the  given array like\n",
        "# find the values which are greter then 40  from a give a certain array\n",
        "\n",
        "arr= np.array([[3,33,55,66],[44,55,66,77],[33,55,77,88]])\n",
        "arr2= arr[arr>40]\n",
        "print(arr2)\n",
        "print(arr[arr>50])"
      ],
      "metadata": {
        "colab": {
          "base_uri": "https://localhost:8080/"
        },
        "id": "v8Z0VVFB0C6E",
        "outputId": "05a5926c-eb3e-4b8c-a43a-69dd3e36fa68"
      },
      "execution_count": 175,
      "outputs": [
        {
          "output_type": "stream",
          "name": "stdout",
          "text": [
            "[55 66 44 55 66 77 55 77 88]\n",
            "[55 66 55 66 77 55 77 88]\n"
          ]
        }
      ]
    },
    {
      "cell_type": "code",
      "source": [
        "# broadcast in array\n",
        "arr= np.array([[3,33,55,66],[44,55,66,77],[33,55,77,88]])\n",
        "arr3=arr+2\n",
        "print(arr3)"
      ],
      "metadata": {
        "colab": {
          "base_uri": "https://localhost:8080/"
        },
        "id": "nySG-yRG0xrv",
        "outputId": "6d0e9314-9d0c-4e5d-ade4-4f6e508291bf"
      },
      "execution_count": 179,
      "outputs": [
        {
          "output_type": "stream",
          "name": "stdout",
          "text": [
            "[[ 5 35 57 68]\n",
            " [46 57 68 79]\n",
            " [35 57 79 90]]\n"
          ]
        }
      ]
    },
    {
      "cell_type": "code",
      "source": [
        "#  how to genrate and store random value in the array\n",
        "#  random integers\n",
        "random = np.random.randint(2,10,size=(2,2))\n",
        "print(random)\n",
        "print(\"*\"*40)\n",
        "random1 = np.random.randint(1,50,size=(3,5))\n",
        "print(random1)\n"
      ],
      "metadata": {
        "colab": {
          "base_uri": "https://localhost:8080/"
        },
        "id": "5UORw1jK1BJD",
        "outputId": "8f4d3c73-f66a-4848-af73-693ce21b216a"
      },
      "execution_count": 187,
      "outputs": [
        {
          "output_type": "stream",
          "name": "stdout",
          "text": [
            "[[9 3]\n",
            " [9 9]]\n",
            "****************************************\n",
            "[[15 30 30 42 49]\n",
            " [21 14 25 25 39]\n",
            " [ 7 41 23 19 12]]\n"
          ]
        }
      ]
    },
    {
      "cell_type": "code",
      "source": [
        "#  how to generate and stor the random flaoting numbers in to an array\n",
        "random = np.random.rand(2,4)\n",
        "print(random)"
      ],
      "metadata": {
        "colab": {
          "base_uri": "https://localhost:8080/"
        },
        "id": "5mqS5uOY19fF",
        "outputId": "90b98898-769a-43da-ec8f-42104b7dcc90"
      },
      "execution_count": 191,
      "outputs": [
        {
          "output_type": "stream",
          "name": "stdout",
          "text": [
            "[[0.89774203 0.98727891 0.53094088 0.63030888]\n",
            " [0.26198917 0.29152193 0.62502015 0.14693247]]\n"
          ]
        }
      ]
    },
    {
      "cell_type": "code",
      "source": [
        "#  normal distribution in an array\n",
        "random = np.random.randn(2,4)\n",
        "print(random)"
      ],
      "metadata": {
        "colab": {
          "base_uri": "https://localhost:8080/"
        },
        "id": "tBMMpR6L2XLS",
        "outputId": "408d5aff-e6c9-44ac-e806-bb8d14af666d"
      },
      "execution_count": 195,
      "outputs": [
        {
          "output_type": "stream",
          "name": "stdout",
          "text": [
            "[[ 1.49411239  0.97328133 -0.83625704 -1.59594703]\n",
            " [-1.7306799   0.90408628  0.15088395 -2.35571401]]\n"
          ]
        }
      ]
    },
    {
      "cell_type": "code",
      "source": [
        "arr5 = np.array([5, 6, 7])\n",
        "arr1=np.array([1,2,3])\n",
        "stacked_arr = np.vstack((arr1, arr5))\n",
        "print(\"\\nVertically Stacked Array:\\n\", stacked_arr)"
      ],
      "metadata": {
        "colab": {
          "base_uri": "https://localhost:8080/"
        },
        "id": "B7RzJzLF2l0M",
        "outputId": "254c58db-6663-44ab-d72f-d1346a02e399"
      },
      "execution_count": 201,
      "outputs": [
        {
          "output_type": "stream",
          "name": "stdout",
          "text": [
            "\n",
            "Vertically Stacked Array:\n",
            " [[1 2 3]\n",
            " [5 6 7]]\n"
          ]
        }
      ]
    },
    {
      "cell_type": "code",
      "source": [
        "arr1=np.array([[1,2,3,4],[5,6,7,8]])\n",
        "arr2=np.array([[1,2,3,4],[5,6,7,8]])\n",
        "arr3=np.hstack((arr1,arr2))\n",
        "print(arr3)"
      ],
      "metadata": {
        "colab": {
          "base_uri": "https://localhost:8080/"
        },
        "id": "XsgsCP7H37vP",
        "outputId": "699ef7dc-1331-430f-b374-95cf64e549a1"
      },
      "execution_count": 207,
      "outputs": [
        {
          "output_type": "stream",
          "name": "stdout",
          "text": [
            "[[1 2 3 4 1 2 3 4]\n",
            " [5 6 7 8 5 6 7 8]]\n"
          ]
        }
      ]
    }
  ]
}
